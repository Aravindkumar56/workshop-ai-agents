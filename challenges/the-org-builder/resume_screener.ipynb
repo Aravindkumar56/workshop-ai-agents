{
 "cells": [
  {
   "cell_type": "code",
   "execution_count": null,
   "metadata": {},
   "outputs": [],
   "source": [
    "import os\n",
    "import warnings\n",
    "warnings.filterwarnings('ignore')\n",
    "\n",
    "import dotenv\n",
    "dotenv.load_dotenv()\n",
    "\n",
    "os.environ[\"OPENAI_MODEL_NAME\"] = 'gpt-3.5-turbo'\n",
    "# os.environ[\"SERPER_API_KEY\"] = \"xxx\""
   ]
  },
  {
   "cell_type": "code",
   "execution_count": 1,
   "metadata": {},
   "outputs": [],
   "source": [
    "from crewai import Agent, Task, Crew"
   ]
  },
  {
   "cell_type": "code",
   "execution_count": 2,
   "metadata": {},
   "outputs": [
    {
     "data": {
      "text/markdown": [
       "# About the job\n",
       "\n",
       "As a Lead Full-Stack Engineer, you’ll thrive if you’re hands-on, grounded, and passionate about building with technology. Our diverse tech stack includes TypeScript, Java, Scala, Kotlin, Golang, Elixir, Python, .Net, Node.js, and Rust.\n",
       "This role offers significant impact and growth opportunities while staying hands-on. We focus on lean teams without traditional management layers, working in small, collaborative teams (2-5 people) where a well-founded argument holds more weight than the years of experience. You’ll develop tailored software solutions to meet clients’ unique needs across multiple domains.\n",
       "\n",
       "## Responsibilities\n",
       "- Remain fully hands-on and write high-quality, production-ready code that enables smooth deployment of solutions.\n",
       "- Lead architecture and design decisions, ensuring adherence to best practices in technology choices and system design.\n",
       "- Utilize DevOps tools and practices to automate and streamline the build and deployment processes.\n",
       "- Work closely with Data Scientists and Engineers to deliver robust, production-level AI and Machine Learning systems.\n",
       "- Develop frameworks and tools for efficient data ingestion from diverse and complex sources.\n",
       "- Operate in short, iterative sprints, delivering working software aligned with clear deliverables and client-defined deadlines.\n",
       "- Demonstrate flexibility by learning and working across multiple programming languages and technologies as required.\n",
       "\n",
       "\n",
       "## Additional Responsibilities\n",
       "\n",
       "- Actively contribute to a high-performing engineering culture by working from the office regularly to collaborate closely with fellow senior techies, fostering strong technical discussions and decision-making.\n",
       "- Provide hands-on mentorship and technical guidance that encourages knowledge sharing, continuous improvement, and innovation within your team.\n",
       "\n",
       "\n",
       "## Skills you’ll need\n",
       "\n",
       "- At least 6+ years experience as a Software Engineer.\n",
       "- Deep understanding of programming fundamentals and expertise with at least one programming language (functional or object-oriented).\n",
       "- A nuanced and rich understanding of code quality, maintainability and practices like Test Driven Development.\n",
       "- Experience with one or more source control and build toolchains.\n",
       "- Working knowledge of CI/CD will be an added advantage.\n",
       "- Understanding of web APIs, contracts and communication protocols.\n",
       "- Understanding of Cloud platforms, infra-automation/DevOps, IaC/GitOps/Containers, design and development of large data platforms.\n",
       "- A maker’s mindset – To be resourceful and have the ability to do things that have no instructions.\n"
      ],
      "text/plain": [
       "<IPython.core.display.Markdown object>"
      ]
     },
     "execution_count": 2,
     "metadata": {},
     "output_type": "execute_result"
    }
   ],
   "source": [
    "# full stack developer\n",
    "file_job_description = 'job_description/full_stack_dev.md'\n",
    "with open(file_job_description, 'r') as file:\n",
    "    job_description = file.read()\n",
    "\n",
    "from IPython.display import Markdown\n",
    "Markdown(job_description)"
   ]
  },
  {
   "cell_type": "code",
   "execution_count": null,
   "metadata": {},
   "outputs": [],
   "source": []
  }
 ],
 "metadata": {
  "kernelspec": {
   "display_name": "sentinel",
   "language": "python",
   "name": "sentinel"
  },
  "language_info": {
   "codemirror_mode": {
    "name": "ipython",
    "version": 3
   },
   "file_extension": ".py",
   "mimetype": "text/x-python",
   "name": "python",
   "nbconvert_exporter": "python",
   "pygments_lexer": "ipython3",
   "version": "3.12.8"
  }
 },
 "nbformat": 4,
 "nbformat_minor": 2
}
